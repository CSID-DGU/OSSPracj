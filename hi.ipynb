{
 "cells": [
  {
   "cell_type": "code",
   "execution_count": 2,
   "id": "2170026e",
   "metadata": {},
   "outputs": [
    {
     "name": "stdout",
     "output_type": "stream",
     "text": [
      "이름 : 김지훈\n",
      "학번 : 2021112411\n"
     ]
    }
   ],
   "source": [
    "a=input(\"이름을 입력하세요: \")\n",
    "b=input(\"학번을 입력하세요: \")\n",
    "\n",
    "print(\"이름 : {}\".format(a))\n",
    "print(\"학번 : {}\".format(b))"
   ]
  }
 ],
 "metadata": {
  "kernelspec": {
   "display_name": "base",
   "language": "python",
   "name": "python3"
  },
  "language_info": {
   "codemirror_mode": {
    "name": "ipython",
    "version": 3
   },
   "file_extension": ".py",
   "mimetype": "text/x-python",
   "name": "python",
   "nbconvert_exporter": "python",
   "pygments_lexer": "ipython3",
   "version": "3.13.5"
  }
 },
 "nbformat": 4,
 "nbformat_minor": 5
}
